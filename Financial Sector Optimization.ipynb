{
 "cells": [
  {
   "cell_type": "code",
   "execution_count": 1,
   "id": "2a4d6841",
   "metadata": {},
   "outputs": [],
   "source": [
    "from pandas_datareader import data as web\n",
    "import pandas as pd\n",
    "import numpy as np\n",
    "from datetime import datetime\n",
    "import matplotlib.pyplot as plt\n",
    "plt.style.use('fivethirtyeight')"
   ]
  },
  {
   "cell_type": "code",
   "execution_count": 2,
   "id": "082f737c",
   "metadata": {},
   "outputs": [],
   "source": [
    "assets = ['AXP', 'GS', 'JPM', 'V']"
   ]
  },
  {
   "cell_type": "code",
   "execution_count": 3,
   "id": "e6f26d13",
   "metadata": {},
   "outputs": [],
   "source": [
    "weights = np.array([0.25,0.25,0.25,0.25])"
   ]
  },
  {
   "cell_type": "code",
   "execution_count": 4,
   "id": "aedb8c87",
   "metadata": {},
   "outputs": [],
   "source": [
    "stockStartDate = '2013-01-01'"
   ]
  },
  {
   "cell_type": "code",
   "execution_count": 5,
   "id": "d4e74c2e",
   "metadata": {},
   "outputs": [
    {
     "data": {
      "text/plain": [
       "'2022-02-02'"
      ]
     },
     "execution_count": 5,
     "metadata": {},
     "output_type": "execute_result"
    }
   ],
   "source": [
    "today = datetime.today().strftime('%Y-%m-%d')\n",
    "today"
   ]
  },
  {
   "cell_type": "code",
   "execution_count": 6,
   "id": "e6a253e5",
   "metadata": {},
   "outputs": [],
   "source": [
    "df = pd.DataFrame()\n",
    "for stock in assets:\n",
    "    df[stock] = web.DataReader(stock, data_source = 'yahoo', start = stockStartDate, end = today)['Adj Close']"
   ]
  },
  {
   "cell_type": "code",
   "execution_count": 7,
   "id": "5554642d",
   "metadata": {},
   "outputs": [
    {
     "data": {
      "text/html": [
       "<div>\n",
       "<style scoped>\n",
       "    .dataframe tbody tr th:only-of-type {\n",
       "        vertical-align: middle;\n",
       "    }\n",
       "\n",
       "    .dataframe tbody tr th {\n",
       "        vertical-align: top;\n",
       "    }\n",
       "\n",
       "    .dataframe thead th {\n",
       "        text-align: right;\n",
       "    }\n",
       "</style>\n",
       "<table border=\"1\" class=\"dataframe\">\n",
       "  <thead>\n",
       "    <tr style=\"text-align: right;\">\n",
       "      <th></th>\n",
       "      <th>AXP</th>\n",
       "      <th>GS</th>\n",
       "      <th>JPM</th>\n",
       "      <th>V</th>\n",
       "    </tr>\n",
       "    <tr>\n",
       "      <th>Date</th>\n",
       "      <th></th>\n",
       "      <th></th>\n",
       "      <th></th>\n",
       "      <th></th>\n",
       "    </tr>\n",
       "  </thead>\n",
       "  <tbody>\n",
       "    <tr>\n",
       "      <th>2013-01-02</th>\n",
       "      <td>51.604919</td>\n",
       "      <td>114.174713</td>\n",
       "      <td>34.937061</td>\n",
       "      <td>36.500900</td>\n",
       "    </tr>\n",
       "    <tr>\n",
       "      <th>2013-01-03</th>\n",
       "      <td>51.824509</td>\n",
       "      <td>113.550339</td>\n",
       "      <td>34.866638</td>\n",
       "      <td>36.529083</td>\n",
       "    </tr>\n",
       "    <tr>\n",
       "      <th>2013-01-04</th>\n",
       "      <td>52.360332</td>\n",
       "      <td>116.646240</td>\n",
       "      <td>35.484646</td>\n",
       "      <td>36.827427</td>\n",
       "    </tr>\n",
       "    <tr>\n",
       "      <th>2013-01-07</th>\n",
       "      <td>52.579926</td>\n",
       "      <td>116.429413</td>\n",
       "      <td>35.523766</td>\n",
       "      <td>37.090534</td>\n",
       "    </tr>\n",
       "    <tr>\n",
       "      <th>2013-01-08</th>\n",
       "      <td>52.878571</td>\n",
       "      <td>115.380096</td>\n",
       "      <td>35.594170</td>\n",
       "      <td>37.435848</td>\n",
       "    </tr>\n",
       "    <tr>\n",
       "      <th>...</th>\n",
       "      <td>...</td>\n",
       "      <td>...</td>\n",
       "      <td>...</td>\n",
       "      <td>...</td>\n",
       "    </tr>\n",
       "    <tr>\n",
       "      <th>2022-01-26</th>\n",
       "      <td>175.320007</td>\n",
       "      <td>342.679993</td>\n",
       "      <td>147.919998</td>\n",
       "      <td>205.869995</td>\n",
       "    </tr>\n",
       "    <tr>\n",
       "      <th>2022-01-27</th>\n",
       "      <td>171.899994</td>\n",
       "      <td>341.029999</td>\n",
       "      <td>145.309998</td>\n",
       "      <td>206.149994</td>\n",
       "    </tr>\n",
       "    <tr>\n",
       "      <th>2022-01-28</th>\n",
       "      <td>177.059998</td>\n",
       "      <td>347.010010</td>\n",
       "      <td>146.610001</td>\n",
       "      <td>228.000000</td>\n",
       "    </tr>\n",
       "    <tr>\n",
       "      <th>2022-01-31</th>\n",
       "      <td>179.820007</td>\n",
       "      <td>354.679993</td>\n",
       "      <td>148.600006</td>\n",
       "      <td>226.169998</td>\n",
       "    </tr>\n",
       "    <tr>\n",
       "      <th>2022-02-01</th>\n",
       "      <td>183.539993</td>\n",
       "      <td>364.059998</td>\n",
       "      <td>151.149994</td>\n",
       "      <td>232.360001</td>\n",
       "    </tr>\n",
       "  </tbody>\n",
       "</table>\n",
       "<p>2288 rows × 4 columns</p>\n",
       "</div>"
      ],
      "text/plain": [
       "                   AXP          GS         JPM           V\n",
       "Date                                                      \n",
       "2013-01-02   51.604919  114.174713   34.937061   36.500900\n",
       "2013-01-03   51.824509  113.550339   34.866638   36.529083\n",
       "2013-01-04   52.360332  116.646240   35.484646   36.827427\n",
       "2013-01-07   52.579926  116.429413   35.523766   37.090534\n",
       "2013-01-08   52.878571  115.380096   35.594170   37.435848\n",
       "...                ...         ...         ...         ...\n",
       "2022-01-26  175.320007  342.679993  147.919998  205.869995\n",
       "2022-01-27  171.899994  341.029999  145.309998  206.149994\n",
       "2022-01-28  177.059998  347.010010  146.610001  228.000000\n",
       "2022-01-31  179.820007  354.679993  148.600006  226.169998\n",
       "2022-02-01  183.539993  364.059998  151.149994  232.360001\n",
       "\n",
       "[2288 rows x 4 columns]"
      ]
     },
     "execution_count": 7,
     "metadata": {},
     "output_type": "execute_result"
    }
   ],
   "source": [
    " df"
   ]
  },
  {
   "cell_type": "code",
   "execution_count": 8,
   "id": "c36667e2",
   "metadata": {},
   "outputs": [
    {
     "data": {
      "image/png": "[encoded data removed]",
      "text/plain": [
       "<Figure size 432x288 with 1 Axes>"
      ]
     },
     "metadata": {},
     "output_type": "display_data"
    }
   ],
   "source": [
    "title = 'Portfolio Adj. Close Price History'\n",
    "my_stocks = df\n",
    "\n",
    "for c in my_stocks.columns.values:\n",
    "    plt.plot(my_stocks[c], label = c)\n",
    "\n",
    "plt.title(title)\n",
    "plt.xlabel('Date', fontsize = 18)\n",
    "plt.ylabel('Adj. Close USD', fontsize = 18)\n",
    "plt.legend(my_stocks.columns.values, loc= 'upper left')\n",
    "plt.show()"
   ]
  },
  {
   "cell_type": "code",
   "execution_count": 9,
   "id": "cf6b48df",
   "metadata": {},
   "outputs": [
    {
     "data": {
      "text/html": [
       "<div>\n",
       "<style scoped>\n",
       "    .dataframe tbody tr th:only-of-type {\n",
       "        vertical-align: middle;\n",
       "    }\n",
       "\n",
       "    .dataframe tbody tr th {\n",
       "        vertical-align: top;\n",
       "    }\n",
       "\n",
       "    .dataframe thead th {\n",
       "        text-align: right;\n",
       "    }\n",
       "</style>\n",
       "<table border=\"1\" class=\"dataframe\">\n",
       "  <thead>\n",
       "    <tr style=\"text-align: right;\">\n",
       "      <th></th>\n",
       "      <th>AXP</th>\n",
       "      <th>GS</th>\n",
       "      <th>JPM</th>\n",
       "      <th>V</th>\n",
       "    </tr>\n",
       "    <tr>\n",
       "      <th>Date</th>\n",
       "      <th></th>\n",
       "      <th></th>\n",
       "      <th></th>\n",
       "      <th></th>\n",
       "    </tr>\n",
       "  </thead>\n",
       "  <tbody>\n",
       "    <tr>\n",
       "      <th>2013-01-02</th>\n",
       "      <td>NaN</td>\n",
       "      <td>NaN</td>\n",
       "      <td>NaN</td>\n",
       "      <td>NaN</td>\n",
       "    </tr>\n",
       "    <tr>\n",
       "      <th>2013-01-03</th>\n",
       "      <td>0.004255</td>\n",
       "      <td>-0.005469</td>\n",
       "      <td>-0.002016</td>\n",
       "      <td>0.000772</td>\n",
       "    </tr>\n",
       "    <tr>\n",
       "      <th>2013-01-04</th>\n",
       "      <td>0.010339</td>\n",
       "      <td>0.027265</td>\n",
       "      <td>0.017725</td>\n",
       "      <td>0.008167</td>\n",
       "    </tr>\n",
       "    <tr>\n",
       "      <th>2013-01-07</th>\n",
       "      <td>0.004194</td>\n",
       "      <td>-0.001859</td>\n",
       "      <td>0.001102</td>\n",
       "      <td>0.007144</td>\n",
       "    </tr>\n",
       "    <tr>\n",
       "      <th>2013-01-08</th>\n",
       "      <td>0.005680</td>\n",
       "      <td>-0.009012</td>\n",
       "      <td>0.001982</td>\n",
       "      <td>0.009310</td>\n",
       "    </tr>\n",
       "    <tr>\n",
       "      <th>...</th>\n",
       "      <td>...</td>\n",
       "      <td>...</td>\n",
       "      <td>...</td>\n",
       "      <td>...</td>\n",
       "    </tr>\n",
       "    <tr>\n",
       "      <th>2022-01-26</th>\n",
       "      <td>0.012766</td>\n",
       "      <td>0.003308</td>\n",
       "      <td>0.009486</td>\n",
       "      <td>0.019158</td>\n",
       "    </tr>\n",
       "    <tr>\n",
       "      <th>2022-01-27</th>\n",
       "      <td>-0.019507</td>\n",
       "      <td>-0.004815</td>\n",
       "      <td>-0.017645</td>\n",
       "      <td>0.001360</td>\n",
       "    </tr>\n",
       "    <tr>\n",
       "      <th>2022-01-28</th>\n",
       "      <td>0.030017</td>\n",
       "      <td>0.017535</td>\n",
       "      <td>0.008946</td>\n",
       "      <td>0.105991</td>\n",
       "    </tr>\n",
       "    <tr>\n",
       "      <th>2022-01-31</th>\n",
       "      <td>0.015588</td>\n",
       "      <td>0.022103</td>\n",
       "      <td>0.013573</td>\n",
       "      <td>-0.008026</td>\n",
       "    </tr>\n",
       "    <tr>\n",
       "      <th>2022-02-01</th>\n",
       "      <td>0.020687</td>\n",
       "      <td>0.026446</td>\n",
       "      <td>0.017160</td>\n",
       "      <td>0.027369</td>\n",
       "    </tr>\n",
       "  </tbody>\n",
       "</table>\n",
       "<p>2288 rows × 4 columns</p>\n",
       "</div>"
      ],
      "text/plain": [
       "                 AXP        GS       JPM         V\n",
       "Date                                              \n",
       "2013-01-02       NaN       NaN       NaN       NaN\n",
       "2013-01-03  0.004255 -0.005469 -0.002016  0.000772\n",
       "2013-01-04  0.010339  0.027265  0.017725  0.008167\n",
       "2013-01-07  0.004194 -0.001859  0.001102  0.007144\n",
       "2013-01-08  0.005680 -0.009012  0.001982  0.009310\n",
       "...              ...       ...       ...       ...\n",
       "2022-01-26  0.012766  0.003308  0.009486  0.019158\n",
       "2022-01-27 -0.019507 -0.004815 -0.017645  0.001360\n",
       "2022-01-28  0.030017  0.017535  0.008946  0.105991\n",
       "2022-01-31  0.015588  0.022103  0.013573 -0.008026\n",
       "2022-02-01  0.020687  0.026446  0.017160  0.027369\n",
       "\n",
       "[2288 rows x 4 columns]"
      ]
     },
     "execution_count": 9,
     "metadata": {},
     "output_type": "execute_result"
    }
   ],
   "source": [
    "returns = df.pct_change()\n",
    "returns"
   ]
  },
  {
   "cell_type": "code",
   "execution_count": 10,
   "id": "b306d2f1",
   "metadata": {},
   "outputs": [
    {
     "data": {
      "text/html": [
       "<div>\n",
       "<style scoped>\n",
       "    .dataframe tbody tr th:only-of-type {\n",
       "        vertical-align: middle;\n",
       "    }\n",
       "\n",
       "    .dataframe tbody tr th {\n",
       "        vertical-align: top;\n",
       "    }\n",
       "\n",
       "    .dataframe thead th {\n",
       "        text-align: right;\n",
       "    }\n",
       "</style>\n",
       "<table border=\"1\" class=\"dataframe\">\n",
       "  <thead>\n",
       "    <tr style=\"text-align: right;\">\n",
       "      <th></th>\n",
       "      <th>AXP</th>\n",
       "      <th>GS</th>\n",
       "      <th>JPM</th>\n",
       "      <th>V</th>\n",
       "    </tr>\n",
       "  </thead>\n",
       "  <tbody>\n",
       "    <tr>\n",
       "      <th>AXP</th>\n",
       "      <td>0.085838</td>\n",
       "      <td>0.056256</td>\n",
       "      <td>0.057510</td>\n",
       "      <td>0.045731</td>\n",
       "    </tr>\n",
       "    <tr>\n",
       "      <th>GS</th>\n",
       "      <td>0.056256</td>\n",
       "      <td>0.077733</td>\n",
       "      <td>0.062060</td>\n",
       "      <td>0.039003</td>\n",
       "    </tr>\n",
       "    <tr>\n",
       "      <th>JPM</th>\n",
       "      <td>0.057510</td>\n",
       "      <td>0.062060</td>\n",
       "      <td>0.070372</td>\n",
       "      <td>0.037676</td>\n",
       "    </tr>\n",
       "    <tr>\n",
       "      <th>V</th>\n",
       "      <td>0.045731</td>\n",
       "      <td>0.039003</td>\n",
       "      <td>0.037676</td>\n",
       "      <td>0.061038</td>\n",
       "    </tr>\n",
       "  </tbody>\n",
       "</table>\n",
       "</div>"
      ],
      "text/plain": [
       "          AXP        GS       JPM         V\n",
       "AXP  0.085838  0.056256  0.057510  0.045731\n",
       "GS   0.056256  0.077733  0.062060  0.039003\n",
       "JPM  0.057510  0.062060  0.070372  0.037676\n",
       "V    0.045731  0.039003  0.037676  0.061038"
      ]
     },
     "execution_count": 10,
     "metadata": {},
     "output_type": "execute_result"
    }
   ],
   "source": [
    "#annualized covariance matrix\n",
    "cov_matrix_annual = returns.cov() * 252\n",
    "cov_matrix_annual"
   ]
  },
  {
   "cell_type": "code",
   "execution_count": 11,
   "id": "28651701",
   "metadata": {},
   "outputs": [
    {
     "data": {
      "text/plain": [
       "0.05571582251754264"
      ]
     },
     "execution_count": 11,
     "metadata": {},
     "output_type": "execute_result"
    }
   ],
   "source": [
    "#calculate the portfolio variance\n",
    "port_variance = np.dot(weights.T, np.dot(cov_matrix_annual, weights) )\n",
    "port_variance"
   ]
  },
  {
   "cell_type": "code",
   "execution_count": 12,
   "id": "1211a8f2",
   "metadata": {},
   "outputs": [
    {
     "data": {
      "text/plain": [
       "0.23604199312313612"
      ]
     },
     "execution_count": 12,
     "metadata": {},
     "output_type": "execute_result"
    }
   ],
   "source": [
    "#calculate the portfolio volatility(std dev)\n",
    "port_volatality = np.sqrt(port_variance)\n",
    "port_volatality"
   ]
  },
  {
   "cell_type": "code",
   "execution_count": 13,
   "id": "22a16f24",
   "metadata": {},
   "outputs": [
    {
     "data": {
      "text/plain": [
       "0.19497551858401393"
      ]
     },
     "execution_count": 13,
     "metadata": {},
     "output_type": "execute_result"
    }
   ],
   "source": [
    "#calculate annual portfolio returns\n",
    "portfolioSimpleAnnualReturn = np.sum(returns.mean() * weights) * 252\n",
    "portfolioSimpleAnnualReturn"
   ]
  },
  {
   "cell_type": "code",
   "execution_count": 14,
   "id": "b5aeb5fd",
   "metadata": {},
   "outputs": [
    {
     "name": "stdout",
     "output_type": "stream",
     "text": [
      "Expected Annual Return:19.0%\n",
      "Annual Volatility/Risk:24.0%\n",
      "Annual Variance:6.0%\n"
     ]
    }
   ],
   "source": [
    "#show the expected annual return, volatility(risk), variance\n",
    "percent_var  = str(round(port_variance, 2) * 100) + '%'\n",
    "percent_vols  = str(round(port_volatality, 2) * 100) + '%'\n",
    "percent_ret  = str(round(portfolioSimpleAnnualReturn, 2) * 100) + '%'\n",
    "\n",
    "print('Expected Annual Return:' + percent_ret)\n",
    "print('Annual Volatility/Risk:' + percent_vols)\n",
    "print('Annual Variance:' + percent_var)"
   ]
  },
  {
   "cell_type": "code",
   "execution_count": 15,
   "id": "9aa42ee7",
   "metadata": {},
   "outputs": [],
   "source": [
    "from pypfopt.efficient_frontier import EfficientFrontier\n",
    "from pypfopt import risk_models\n",
    "from pypfopt import expected_returns"
   ]
  },
  {
   "cell_type": "code",
   "execution_count": 16,
   "id": "aa8a0cab",
   "metadata": {},
   "outputs": [
    {
     "name": "stdout",
     "output_type": "stream",
     "text": [
      "OrderedDict([('AXP', 0.0), ('GS', 0.0), ('JPM', 0.16395), ('V', 0.83605)])\n",
      "Expected annual return: 21.8%\n",
      "Annual volatility: 23.4%\n",
      "Sharpe Ratio: 0.84\n"
     ]
    },
    {
     "data": {
      "text/plain": [
       "(0.21786391797411772, 0.23427463292811443, 0.8445810607025086)"
      ]
     },
     "execution_count": 16,
     "metadata": {},
     "output_type": "execute_result"
    }
   ],
   "source": [
    "#Portfolio Optimization\n",
    "\n",
    "#calculate the expected returns and annualized sample covariance matrix of asset returns\n",
    "\n",
    "mu = expected_returns.mean_historical_return(df)\n",
    "S = risk_models.sample_cov(df)\n",
    "\n",
    "#optimize for max sharpe ratio\n",
    "ef = EfficientFrontier(mu, S)\n",
    "weights = ef.max_sharpe()\n",
    "cleaned_weights = ef.clean_weights()\n",
    "print(cleaned_weights)\n",
    "ef.portfolio_performance(verbose = True)"
   ]
  },
  {
   "cell_type": "code",
   "execution_count": 17,
   "id": "5d4e6950",
   "metadata": {},
   "outputs": [
    {
     "name": "stdout",
     "output_type": "stream",
     "text": [
      "Long-step dual simplex will be used\n",
      "Discrete Allocation: {'JPM': 1084, 'V': 3598}\n",
      "Funds Remaining : $122.124420\n"
     ]
    }
   ],
   "source": [
    "#Discrete allocation of each share per stock\n",
    "from pypfopt.discrete_allocation import DiscreteAllocation, get_latest_prices\n",
    "latest_prices = get_latest_prices(df)\n",
    "weights = cleaned_weights\n",
    "da = DiscreteAllocation(weights, latest_prices, total_portfolio_value = 1000000)\n",
    "\n",
    "allocation, leftover = da.lp_portfolio()\n",
    "print('Discrete Allocation:', allocation)\n",
    "print('Funds Remaining : ${:2f}'.format(leftover))"
   ]
  },
  {
   "cell_type": "code",
   "execution_count": null,
   "id": "9f7ce65f",
   "metadata": {},
   "outputs": [],
   "source": []
  }
 ],
 "metadata": {
  "kernelspec": {
   "display_name": "Python 3 (ipykernel)",
   "language": "python",
   "name": "python3"
  },
  "language_info": {
   "codemirror_mode": {
    "name": "ipython",
    "version": 3
   },
   "file_extension": ".py",
   "mimetype": "text/x-python",
   "name": "python",
   "nbconvert_exporter": "python",
   "pygments_lexer": "ipython3",
   "version": "3.9.7"
  }
 },
 "nbformat": 4,
 "nbformat_minor": 5
}
