{
 "cells": [
  {
   "cell_type": "code",
   "execution_count": 1,
   "id": "37ccbbf1",
   "metadata": {},
   "outputs": [],
   "source": [
    "from pandas_datareader import data as web\n",
    "import pandas as pd\n",
    "import numpy as np\n",
    "from datetime import datetime\n",
    "import matplotlib.pyplot as plt\n",
    "plt.style.use('fivethirtyeight')"
   ]
  },
  {
   "cell_type": "code",
   "execution_count": 2,
   "id": "f667513e",
   "metadata": {},
   "outputs": [],
   "source": [
    "assets = ['AAPL', 'CSCO', 'IBM', 'MSFT', 'CRM']"
   ]
  },
  {
   "cell_type": "code",
   "execution_count": 3,
   "id": "0a75e078",
   "metadata": {},
   "outputs": [],
   "source": [
    "weights = np.array([0.2,0.2,0.2,0.2,0.2])"
   ]
  },
  {
   "cell_type": "code",
   "execution_count": 4,
   "id": "4c564e20",
   "metadata": {},
   "outputs": [],
   "source": [
    "stockStartDate = '2013-01-01'"
   ]
  },
  {
   "cell_type": "code",
   "execution_count": 5,
   "id": "392fd88d",
   "metadata": {},
   "outputs": [
    {
     "data": {
      "text/plain": [
       "'2022-02-01'"
      ]
     },
     "execution_count": 5,
     "metadata": {},
     "output_type": "execute_result"
    }
   ],
   "source": [
    "today = datetime.today().strftime('%Y-%m-%d')\n",
    "today"
   ]
  },
  {
   "cell_type": "code",
   "execution_count": 6,
   "id": "97f6281e",
   "metadata": {},
   "outputs": [],
   "source": [
    "df = pd.DataFrame()\n",
    "for stock in assets:\n",
    "    df[stock] = web.DataReader(stock, data_source = 'yahoo', start = stockStartDate, end = today)['Adj Close']"
   ]
  },
  {
   "cell_type": "code",
   "execution_count": 7,
   "id": "92086066",
   "metadata": {},
   "outputs": [
    {
     "data": {
      "text/html": [
       "<div>\n",
       "<style scoped>\n",
       "    .dataframe tbody tr th:only-of-type {\n",
       "        vertical-align: middle;\n",
       "    }\n",
       "\n",
       "    .dataframe tbody tr th {\n",
       "        vertical-align: top;\n",
       "    }\n",
       "\n",
       "    .dataframe thead th {\n",
       "        text-align: right;\n",
       "    }\n",
       "</style>\n",
       "<table border=\"1\" class=\"dataframe\">\n",
       "  <thead>\n",
       "    <tr style=\"text-align: right;\">\n",
       "      <th></th>\n",
       "      <th>AAPL</th>\n",
       "      <th>CSCO</th>\n",
       "      <th>IBM</th>\n",
       "      <th>MSFT</th>\n",
       "      <th>CRM</th>\n",
       "    </tr>\n",
       "    <tr>\n",
       "      <th>Date</th>\n",
       "      <th></th>\n",
       "      <th></th>\n",
       "      <th></th>\n",
       "      <th></th>\n",
       "      <th></th>\n",
       "    </tr>\n",
       "  </thead>\n",
       "  <tbody>\n",
       "    <tr>\n",
       "      <th>2013-01-02</th>\n",
       "      <td>16.960693</td>\n",
       "      <td>15.380287</td>\n",
       "      <td>133.331985</td>\n",
       "      <td>22.988085</td>\n",
       "      <td>42.792500</td>\n",
       "    </tr>\n",
       "    <tr>\n",
       "      <th>2013-01-03</th>\n",
       "      <td>16.746614</td>\n",
       "      <td>15.463465</td>\n",
       "      <td>132.598557</td>\n",
       "      <td>22.680140</td>\n",
       "      <td>42.177502</td>\n",
       "    </tr>\n",
       "    <tr>\n",
       "      <th>2013-01-04</th>\n",
       "      <td>16.280140</td>\n",
       "      <td>15.486156</td>\n",
       "      <td>131.729431</td>\n",
       "      <td>22.255663</td>\n",
       "      <td>42.402500</td>\n",
       "    </tr>\n",
       "    <tr>\n",
       "      <th>2013-01-07</th>\n",
       "      <td>16.184376</td>\n",
       "      <td>15.342477</td>\n",
       "      <td>131.152206</td>\n",
       "      <td>22.214045</td>\n",
       "      <td>42.244999</td>\n",
       "    </tr>\n",
       "    <tr>\n",
       "      <th>2013-01-08</th>\n",
       "      <td>16.227936</td>\n",
       "      <td>15.357604</td>\n",
       "      <td>130.968826</td>\n",
       "      <td>22.097525</td>\n",
       "      <td>42.492500</td>\n",
       "    </tr>\n",
       "    <tr>\n",
       "      <th>...</th>\n",
       "      <td>...</td>\n",
       "      <td>...</td>\n",
       "      <td>...</td>\n",
       "      <td>...</td>\n",
       "      <td>...</td>\n",
       "    </tr>\n",
       "    <tr>\n",
       "      <th>2022-01-26</th>\n",
       "      <td>159.690002</td>\n",
       "      <td>55.330002</td>\n",
       "      <td>134.259995</td>\n",
       "      <td>296.709991</td>\n",
       "      <td>211.000000</td>\n",
       "    </tr>\n",
       "    <tr>\n",
       "      <th>2022-01-27</th>\n",
       "      <td>159.220001</td>\n",
       "      <td>54.619999</td>\n",
       "      <td>132.520004</td>\n",
       "      <td>299.839996</td>\n",
       "      <td>212.740005</td>\n",
       "    </tr>\n",
       "    <tr>\n",
       "      <th>2022-01-28</th>\n",
       "      <td>170.330002</td>\n",
       "      <td>55.610001</td>\n",
       "      <td>134.500000</td>\n",
       "      <td>308.260010</td>\n",
       "      <td>222.130005</td>\n",
       "    </tr>\n",
       "    <tr>\n",
       "      <th>2022-01-31</th>\n",
       "      <td>174.779999</td>\n",
       "      <td>55.669998</td>\n",
       "      <td>133.570007</td>\n",
       "      <td>310.980011</td>\n",
       "      <td>232.630005</td>\n",
       "    </tr>\n",
       "    <tr>\n",
       "      <th>2022-02-01</th>\n",
       "      <td>174.610001</td>\n",
       "      <td>55.369999</td>\n",
       "      <td>135.529999</td>\n",
       "      <td>308.760010</td>\n",
       "      <td>232.119995</td>\n",
       "    </tr>\n",
       "  </tbody>\n",
       "</table>\n",
       "<p>2288 rows × 5 columns</p>\n",
       "</div>"
      ],
      "text/plain": [
       "                  AAPL       CSCO         IBM        MSFT         CRM\n",
       "Date                                                                 \n",
       "2013-01-02   16.960693  15.380287  133.331985   22.988085   42.792500\n",
       "2013-01-03   16.746614  15.463465  132.598557   22.680140   42.177502\n",
       "2013-01-04   16.280140  15.486156  131.729431   22.255663   42.402500\n",
       "2013-01-07   16.184376  15.342477  131.152206   22.214045   42.244999\n",
       "2013-01-08   16.227936  15.357604  130.968826   22.097525   42.492500\n",
       "...                ...        ...         ...         ...         ...\n",
       "2022-01-26  159.690002  55.330002  134.259995  296.709991  211.000000\n",
       "2022-01-27  159.220001  54.619999  132.520004  299.839996  212.740005\n",
       "2022-01-28  170.330002  55.610001  134.500000  308.260010  222.130005\n",
       "2022-01-31  174.779999  55.669998  133.570007  310.980011  232.630005\n",
       "2022-02-01  174.610001  55.369999  135.529999  308.760010  232.119995\n",
       "\n",
       "[2288 rows x 5 columns]"
      ]
     },
     "execution_count": 7,
     "metadata": {},
     "output_type": "execute_result"
    }
   ],
   "source": [
    " df"
   ]
  },
  {
   "cell_type": "code",
   "execution_count": 8,
   "id": "81b53255",
   "metadata": {},
   "outputs": [
    {
     "data": {
      "image/png": "[encoded data removed]",
      "text/plain": [
       "<Figure size 432x288 with 1 Axes>"
      ]
     },
     "metadata": {},
     "output_type": "display_data"
    }
   ],
   "source": [
    "title = 'Portfolio Adj. Close Price History'\n",
    "my_stocks = df\n",
    "\n",
    "for c in my_stocks.columns.values:\n",
    "    plt.plot(my_stocks[c], label = c)\n",
    "\n",
    "plt.title(title)\n",
    "plt.xlabel('Date', fontsize = 18)\n",
    "plt.ylabel('Adj. Close USD', fontsize = 18)\n",
    "plt.legend(my_stocks.columns.values, loc= 'upper left')\n",
    "plt.show()"
   ]
  },
  {
   "cell_type": "code",
   "execution_count": 9,
   "id": "b5ca0331",
   "metadata": {},
   "outputs": [
    {
     "data": {
      "text/html": [
       "<div>\n",
       "<style scoped>\n",
       "    .dataframe tbody tr th:only-of-type {\n",
       "        vertical-align: middle;\n",
       "    }\n",
       "\n",
       "    .dataframe tbody tr th {\n",
       "        vertical-align: top;\n",
       "    }\n",
       "\n",
       "    .dataframe thead th {\n",
       "        text-align: right;\n",
       "    }\n",
       "</style>\n",
       "<table border=\"1\" class=\"dataframe\">\n",
       "  <thead>\n",
       "    <tr style=\"text-align: right;\">\n",
       "      <th></th>\n",
       "      <th>AAPL</th>\n",
       "      <th>CSCO</th>\n",
       "      <th>IBM</th>\n",
       "      <th>MSFT</th>\n",
       "      <th>CRM</th>\n",
       "    </tr>\n",
       "    <tr>\n",
       "      <th>Date</th>\n",
       "      <th></th>\n",
       "      <th></th>\n",
       "      <th></th>\n",
       "      <th></th>\n",
       "      <th></th>\n",
       "    </tr>\n",
       "  </thead>\n",
       "  <tbody>\n",
       "    <tr>\n",
       "      <th>2013-01-02</th>\n",
       "      <td>NaN</td>\n",
       "      <td>NaN</td>\n",
       "      <td>NaN</td>\n",
       "      <td>NaN</td>\n",
       "      <td>NaN</td>\n",
       "    </tr>\n",
       "    <tr>\n",
       "      <th>2013-01-03</th>\n",
       "      <td>-0.012622</td>\n",
       "      <td>0.005408</td>\n",
       "      <td>-0.005501</td>\n",
       "      <td>-0.013396</td>\n",
       "      <td>-0.014372</td>\n",
       "    </tr>\n",
       "    <tr>\n",
       "      <th>2013-01-04</th>\n",
       "      <td>-0.027855</td>\n",
       "      <td>0.001467</td>\n",
       "      <td>-0.006555</td>\n",
       "      <td>-0.018716</td>\n",
       "      <td>0.005335</td>\n",
       "    </tr>\n",
       "    <tr>\n",
       "      <th>2013-01-07</th>\n",
       "      <td>-0.005882</td>\n",
       "      <td>-0.009278</td>\n",
       "      <td>-0.004382</td>\n",
       "      <td>-0.001870</td>\n",
       "      <td>-0.003714</td>\n",
       "    </tr>\n",
       "    <tr>\n",
       "      <th>2013-01-08</th>\n",
       "      <td>0.002691</td>\n",
       "      <td>0.000986</td>\n",
       "      <td>-0.001398</td>\n",
       "      <td>-0.005245</td>\n",
       "      <td>0.005859</td>\n",
       "    </tr>\n",
       "    <tr>\n",
       "      <th>...</th>\n",
       "      <td>...</td>\n",
       "      <td>...</td>\n",
       "      <td>...</td>\n",
       "      <td>...</td>\n",
       "      <td>...</td>\n",
       "    </tr>\n",
       "    <tr>\n",
       "      <th>2022-01-26</th>\n",
       "      <td>-0.000563</td>\n",
       "      <td>-0.013901</td>\n",
       "      <td>-0.013520</td>\n",
       "      <td>0.028493</td>\n",
       "      <td>-0.020382</td>\n",
       "    </tr>\n",
       "    <tr>\n",
       "      <th>2022-01-27</th>\n",
       "      <td>-0.002943</td>\n",
       "      <td>-0.012832</td>\n",
       "      <td>-0.012960</td>\n",
       "      <td>0.010549</td>\n",
       "      <td>0.008246</td>\n",
       "    </tr>\n",
       "    <tr>\n",
       "      <th>2022-01-28</th>\n",
       "      <td>0.069778</td>\n",
       "      <td>0.018125</td>\n",
       "      <td>0.014941</td>\n",
       "      <td>0.028082</td>\n",
       "      <td>0.044138</td>\n",
       "    </tr>\n",
       "    <tr>\n",
       "      <th>2022-01-31</th>\n",
       "      <td>0.026126</td>\n",
       "      <td>0.001079</td>\n",
       "      <td>-0.006914</td>\n",
       "      <td>0.008824</td>\n",
       "      <td>0.047270</td>\n",
       "    </tr>\n",
       "    <tr>\n",
       "      <th>2022-02-01</th>\n",
       "      <td>-0.000973</td>\n",
       "      <td>-0.005389</td>\n",
       "      <td>0.014674</td>\n",
       "      <td>-0.007139</td>\n",
       "      <td>-0.002192</td>\n",
       "    </tr>\n",
       "  </tbody>\n",
       "</table>\n",
       "<p>2288 rows × 5 columns</p>\n",
       "</div>"
      ],
      "text/plain": [
       "                AAPL      CSCO       IBM      MSFT       CRM\n",
       "Date                                                        \n",
       "2013-01-02       NaN       NaN       NaN       NaN       NaN\n",
       "2013-01-03 -0.012622  0.005408 -0.005501 -0.013396 -0.014372\n",
       "2013-01-04 -0.027855  0.001467 -0.006555 -0.018716  0.005335\n",
       "2013-01-07 -0.005882 -0.009278 -0.004382 -0.001870 -0.003714\n",
       "2013-01-08  0.002691  0.000986 -0.001398 -0.005245  0.005859\n",
       "...              ...       ...       ...       ...       ...\n",
       "2022-01-26 -0.000563 -0.013901 -0.013520  0.028493 -0.020382\n",
       "2022-01-27 -0.002943 -0.012832 -0.012960  0.010549  0.008246\n",
       "2022-01-28  0.069778  0.018125  0.014941  0.028082  0.044138\n",
       "2022-01-31  0.026126  0.001079 -0.006914  0.008824  0.047270\n",
       "2022-02-01 -0.000973 -0.005389  0.014674 -0.007139 -0.002192\n",
       "\n",
       "[2288 rows x 5 columns]"
      ]
     },
     "execution_count": 9,
     "metadata": {},
     "output_type": "execute_result"
    }
   ],
   "source": [
    "returns = df.pct_change()\n",
    "returns"
   ]
  },
  {
   "cell_type": "code",
   "execution_count": 10,
   "id": "28bc6143",
   "metadata": {},
   "outputs": [
    {
     "data": {
      "text/html": [
       "<div>\n",
       "<style scoped>\n",
       "    .dataframe tbody tr th:only-of-type {\n",
       "        vertical-align: middle;\n",
       "    }\n",
       "\n",
       "    .dataframe tbody tr th {\n",
       "        vertical-align: top;\n",
       "    }\n",
       "\n",
       "    .dataframe thead th {\n",
       "        text-align: right;\n",
       "    }\n",
       "</style>\n",
       "<table border=\"1\" class=\"dataframe\">\n",
       "  <thead>\n",
       "    <tr style=\"text-align: right;\">\n",
       "      <th></th>\n",
       "      <th>AAPL</th>\n",
       "      <th>CSCO</th>\n",
       "      <th>IBM</th>\n",
       "      <th>MSFT</th>\n",
       "      <th>CRM</th>\n",
       "    </tr>\n",
       "  </thead>\n",
       "  <tbody>\n",
       "    <tr>\n",
       "      <th>AAPL</th>\n",
       "      <td>0.079934</td>\n",
       "      <td>0.034021</td>\n",
       "      <td>0.025215</td>\n",
       "      <td>0.043440</td>\n",
       "      <td>0.041267</td>\n",
       "    </tr>\n",
       "    <tr>\n",
       "      <th>CSCO</th>\n",
       "      <td>0.034021</td>\n",
       "      <td>0.061763</td>\n",
       "      <td>0.031081</td>\n",
       "      <td>0.036590</td>\n",
       "      <td>0.037100</td>\n",
       "    </tr>\n",
       "    <tr>\n",
       "      <th>IBM</th>\n",
       "      <td>0.025215</td>\n",
       "      <td>0.031081</td>\n",
       "      <td>0.055053</td>\n",
       "      <td>0.027599</td>\n",
       "      <td>0.026410</td>\n",
       "    </tr>\n",
       "    <tr>\n",
       "      <th>MSFT</th>\n",
       "      <td>0.043440</td>\n",
       "      <td>0.036590</td>\n",
       "      <td>0.027599</td>\n",
       "      <td>0.067522</td>\n",
       "      <td>0.048262</td>\n",
       "    </tr>\n",
       "    <tr>\n",
       "      <th>CRM</th>\n",
       "      <td>0.041267</td>\n",
       "      <td>0.037100</td>\n",
       "      <td>0.026410</td>\n",
       "      <td>0.048262</td>\n",
       "      <td>0.111107</td>\n",
       "    </tr>\n",
       "  </tbody>\n",
       "</table>\n",
       "</div>"
      ],
      "text/plain": [
       "          AAPL      CSCO       IBM      MSFT       CRM\n",
       "AAPL  0.079934  0.034021  0.025215  0.043440  0.041267\n",
       "CSCO  0.034021  0.061763  0.031081  0.036590  0.037100\n",
       "IBM   0.025215  0.031081  0.055053  0.027599  0.026410\n",
       "MSFT  0.043440  0.036590  0.027599  0.067522  0.048262\n",
       "CRM   0.041267  0.037100  0.026410  0.048262  0.111107"
      ]
     },
     "execution_count": 10,
     "metadata": {},
     "output_type": "execute_result"
    }
   ],
   "source": [
    "#annualized covariance matrix\n",
    "cov_matrix_annual = returns.cov() * 252\n",
    "cov_matrix_annual"
   ]
  },
  {
   "cell_type": "code",
   "execution_count": 11,
   "id": "5b4df072",
   "metadata": {},
   "outputs": [
    {
     "data": {
      "text/plain": [
       "0.04309406247162961"
      ]
     },
     "execution_count": 11,
     "metadata": {},
     "output_type": "execute_result"
    }
   ],
   "source": [
    "#calculate the portfolio variance\n",
    "port_variance = np.dot(weights.T, np.dot(cov_matrix_annual, weights) )\n",
    "port_variance"
   ]
  },
  {
   "cell_type": "code",
   "execution_count": 12,
   "id": "cfa956d8",
   "metadata": {},
   "outputs": [
    {
     "data": {
      "text/plain": [
       "0.2075910943938338"
      ]
     },
     "execution_count": 12,
     "metadata": {},
     "output_type": "execute_result"
    }
   ],
   "source": [
    "#calculate the portfolio volatility(std dev)\n",
    "port_volatality = np.sqrt(port_variance)\n",
    "port_volatality"
   ]
  },
  {
   "cell_type": "code",
   "execution_count": 13,
   "id": "53a6d501",
   "metadata": {},
   "outputs": [
    {
     "data": {
      "text/plain": [
       "0.21208196868878124"
      ]
     },
     "execution_count": 13,
     "metadata": {},
     "output_type": "execute_result"
    }
   ],
   "source": [
    "#calculate annual portfolio returns\n",
    "portfolioSimpleAnnualReturn = np.sum(returns.mean() * weights) * 252\n",
    "portfolioSimpleAnnualReturn"
   ]
  },
  {
   "cell_type": "code",
   "execution_count": 14,
   "id": "29e41ddb",
   "metadata": {},
   "outputs": [
    {
     "name": "stdout",
     "output_type": "stream",
     "text": [
      "Expected Annual Return:21.0%\n",
      "Annual Volatility/Risk:21.0%\n",
      "Annual Variance:4.0%\n"
     ]
    }
   ],
   "source": [
    "#show the expected annual return, volatility(risk), variance\n",
    "percent_var  = str(round(port_variance, 2) * 100) + '%'\n",
    "percent_vols  = str(round(port_volatality, 2) * 100) + '%'\n",
    "percent_ret  = str(round(portfolioSimpleAnnualReturn, 2) * 100) + '%'\n",
    "\n",
    "print('Expected Annual Return:' + percent_ret)\n",
    "print('Annual Volatility/Risk:' + percent_vols)\n",
    "print('Annual Variance:' + percent_var)"
   ]
  },
  {
   "cell_type": "code",
   "execution_count": 15,
   "id": "aae81212",
   "metadata": {},
   "outputs": [],
   "source": [
    "from pypfopt.efficient_frontier import EfficientFrontier\n",
    "from pypfopt import risk_models\n",
    "from pypfopt import expected_returns"
   ]
  },
  {
   "cell_type": "code",
   "execution_count": 16,
   "id": "4af9f746",
   "metadata": {},
   "outputs": [
    {
     "name": "stdout",
     "output_type": "stream",
     "text": [
      "OrderedDict([('AAPL', 0.27334), ('CSCO', 0.0), ('IBM', 0.0), ('MSFT', 0.72666), ('CRM', 0.0)])\n",
      "Expected annual return: 32.1%\n",
      "Annual volatility: 24.3%\n",
      "Sharpe Ratio: 1.24\n"
     ]
    },
    {
     "data": {
      "text/plain": [
       "(0.3208804557680712, 0.24265787063532748, 1.239936932522754)"
      ]
     },
     "execution_count": 16,
     "metadata": {},
     "output_type": "execute_result"
    }
   ],
   "source": [
    "#Portfolio Optimization\n",
    "\n",
    "#calculate the expected returns and annualized sample covariance matrix of asset returns\n",
    "\n",
    "mu = expected_returns.mean_historical_return(df)\n",
    "S = risk_models.sample_cov(df)\n",
    "\n",
    "#optimize for max sharpe ratio\n",
    "ef = EfficientFrontier(mu, S)\n",
    "weights = ef.max_sharpe()\n",
    "cleaned_weights = ef.clean_weights()\n",
    "print(cleaned_weights)\n",
    "ef.portfolio_performance(verbose = True)"
   ]
  },
  {
   "cell_type": "code",
   "execution_count": 19,
   "id": "5d9c2297",
   "metadata": {},
   "outputs": [
    {
     "name": "stdout",
     "output_type": "stream",
     "text": [
      "Long-step dual simplex will be used\n",
      "Discrete Allocation: {'AAPL': 1566, 'MSFT': 2353}\n",
      "Funds Remaining : $48.436066\n"
     ]
    }
   ],
   "source": [
    "#Discrete allocation of each share per stock\n",
    "from pypfopt.discrete_allocation import DiscreteAllocation, get_latest_prices\n",
    "latest_prices = get_latest_prices(df)\n",
    "weights = cleaned_weights\n",
    "da = DiscreteAllocation(weights, latest_prices, total_portfolio_value = 1000000)\n",
    "\n",
    "allocation, leftover = da.lp_portfolio()\n",
    "print('Discrete Allocation:', allocation)\n",
    "print('Funds Remaining : ${:2f}'.format(leftover))"
   ]
  }
 ],
 "metadata": {
  "kernelspec": {
   "display_name": "Python 3 (ipykernel)",
   "language": "python",
   "name": "python3"
  },
  "language_info": {
   "codemirror_mode": {
    "name": "ipython",
    "version": 3
   },
   "file_extension": ".py",
   "mimetype": "text/x-python",
   "name": "python",
   "nbconvert_exporter": "python",
   "pygments_lexer": "ipython3",
   "version": "3.9.7"
  }
 },
 "nbformat": 4,
 "nbformat_minor": 5
}
