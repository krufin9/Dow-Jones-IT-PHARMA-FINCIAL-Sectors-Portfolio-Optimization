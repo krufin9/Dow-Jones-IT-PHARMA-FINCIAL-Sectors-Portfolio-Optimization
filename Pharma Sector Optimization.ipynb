{
 "cells": [
  {
   "cell_type": "code",
   "execution_count": 1,
   "id": "2a4d6841",
   "metadata": {},
   "outputs": [],
   "source": [
    "from pandas_datareader import data as web\n",
    "import pandas as pd\n",
    "import numpy as np\n",
    "from datetime import datetime\n",
    "import matplotlib.pyplot as plt\n",
    "plt.style.use('fivethirtyeight')"
   ]
  },
  {
   "cell_type": "code",
   "execution_count": 2,
   "id": "082f737c",
   "metadata": {},
   "outputs": [],
   "source": [
    "assets = ['AMGN', 'JNJ', 'MRK']"
   ]
  },
  {
   "cell_type": "code",
   "execution_count": 3,
   "id": "e6f26d13",
   "metadata": {},
   "outputs": [],
   "source": [
    "weights = np.array([0.33,0.33,0.33])"
   ]
  },
  {
   "cell_type": "code",
   "execution_count": 4,
   "id": "aedb8c87",
   "metadata": {},
   "outputs": [],
   "source": [
    "stockStartDate = '2013-01-01'"
   ]
  },
  {
   "cell_type": "code",
   "execution_count": 5,
   "id": "d4e74c2e",
   "metadata": {},
   "outputs": [
    {
     "data": {
      "text/plain": [
       "'2022-02-02'"
      ]
     },
     "execution_count": 5,
     "metadata": {},
     "output_type": "execute_result"
    }
   ],
   "source": [
    "today = datetime.today().strftime('%Y-%m-%d')\n",
    "today"
   ]
  },
  {
   "cell_type": "code",
   "execution_count": 6,
   "id": "e6a253e5",
   "metadata": {},
   "outputs": [],
   "source": [
    "df = pd.DataFrame()\n",
    "for stock in assets:\n",
    "    df[stock] = web.DataReader(stock, data_source = 'yahoo', start = stockStartDate, end = today)['Adj Close']"
   ]
  },
  {
   "cell_type": "code",
   "execution_count": 7,
   "id": "5554642d",
   "metadata": {},
   "outputs": [
    {
     "data": {
      "text/html": [
       "<div>\n",
       "<style scoped>\n",
       "    .dataframe tbody tr th:only-of-type {\n",
       "        vertical-align: middle;\n",
       "    }\n",
       "\n",
       "    .dataframe tbody tr th {\n",
       "        vertical-align: top;\n",
       "    }\n",
       "\n",
       "    .dataframe thead th {\n",
       "        text-align: right;\n",
       "    }\n",
       "</style>\n",
       "<table border=\"1\" class=\"dataframe\">\n",
       "  <thead>\n",
       "    <tr style=\"text-align: right;\">\n",
       "      <th></th>\n",
       "      <th>AMGN</th>\n",
       "      <th>JNJ</th>\n",
       "      <th>MRK</th>\n",
       "    </tr>\n",
       "    <tr>\n",
       "      <th>Date</th>\n",
       "      <th></th>\n",
       "      <th></th>\n",
       "      <th></th>\n",
       "    </tr>\n",
       "  </thead>\n",
       "  <tbody>\n",
       "    <tr>\n",
       "      <th>2013-01-02</th>\n",
       "      <td>70.994972</td>\n",
       "      <td>55.376453</td>\n",
       "      <td>29.646124</td>\n",
       "    </tr>\n",
       "    <tr>\n",
       "      <th>2013-01-03</th>\n",
       "      <td>70.549026</td>\n",
       "      <td>55.298283</td>\n",
       "      <td>30.356092</td>\n",
       "    </tr>\n",
       "    <tr>\n",
       "      <th>2013-01-04</th>\n",
       "      <td>70.859596</td>\n",
       "      <td>55.931480</td>\n",
       "      <td>30.097923</td>\n",
       "    </tr>\n",
       "    <tr>\n",
       "      <th>2013-01-07</th>\n",
       "      <td>70.501205</td>\n",
       "      <td>55.814201</td>\n",
       "      <td>30.205482</td>\n",
       "    </tr>\n",
       "    <tr>\n",
       "      <th>2013-01-08</th>\n",
       "      <td>70.198616</td>\n",
       "      <td>55.822033</td>\n",
       "      <td>30.248514</td>\n",
       "    </tr>\n",
       "    <tr>\n",
       "      <th>...</th>\n",
       "      <td>...</td>\n",
       "      <td>...</td>\n",
       "      <td>...</td>\n",
       "    </tr>\n",
       "    <tr>\n",
       "      <th>2022-01-26</th>\n",
       "      <td>222.539993</td>\n",
       "      <td>168.380005</td>\n",
       "      <td>79.139999</td>\n",
       "    </tr>\n",
       "    <tr>\n",
       "      <th>2022-01-27</th>\n",
       "      <td>224.000000</td>\n",
       "      <td>170.589996</td>\n",
       "      <td>80.580002</td>\n",
       "    </tr>\n",
       "    <tr>\n",
       "      <th>2022-01-28</th>\n",
       "      <td>229.139999</td>\n",
       "      <td>171.789993</td>\n",
       "      <td>80.900002</td>\n",
       "    </tr>\n",
       "    <tr>\n",
       "      <th>2022-01-31</th>\n",
       "      <td>227.139999</td>\n",
       "      <td>172.289993</td>\n",
       "      <td>81.480003</td>\n",
       "    </tr>\n",
       "    <tr>\n",
       "      <th>2022-02-01</th>\n",
       "      <td>228.679993</td>\n",
       "      <td>170.880005</td>\n",
       "      <td>81.919998</td>\n",
       "    </tr>\n",
       "  </tbody>\n",
       "</table>\n",
       "<p>2288 rows × 3 columns</p>\n",
       "</div>"
      ],
      "text/plain": [
       "                  AMGN         JNJ        MRK\n",
       "Date                                         \n",
       "2013-01-02   70.994972   55.376453  29.646124\n",
       "2013-01-03   70.549026   55.298283  30.356092\n",
       "2013-01-04   70.859596   55.931480  30.097923\n",
       "2013-01-07   70.501205   55.814201  30.205482\n",
       "2013-01-08   70.198616   55.822033  30.248514\n",
       "...                ...         ...        ...\n",
       "2022-01-26  222.539993  168.380005  79.139999\n",
       "2022-01-27  224.000000  170.589996  80.580002\n",
       "2022-01-28  229.139999  171.789993  80.900002\n",
       "2022-01-31  227.139999  172.289993  81.480003\n",
       "2022-02-01  228.679993  170.880005  81.919998\n",
       "\n",
       "[2288 rows x 3 columns]"
      ]
     },
     "execution_count": 7,
     "metadata": {},
     "output_type": "execute_result"
    }
   ],
   "source": [
    " df"
   ]
  },
  {
   "cell_type": "code",
   "execution_count": 8,
   "id": "c36667e2",
   "metadata": {},
   "outputs": [
    {
     "data": {
      "image/png": "[encoded data removed]",
      "text/plain": [
       "<Figure size 432x288 with 1 Axes>"
      ]
     },
     "metadata": {},
     "output_type": "display_data"
    }
   ],
   "source": [
    "title = 'Portfolio Adj. Close Price History'\n",
    "my_stocks = df\n",
    "\n",
    "for c in my_stocks.columns.values:\n",
    "    plt.plot(my_stocks[c], label = c)\n",
    "\n",
    "plt.title(title)\n",
    "plt.xlabel('Date', fontsize = 18)\n",
    "plt.ylabel('Adj. Close USD', fontsize = 18)\n",
    "plt.legend(my_stocks.columns.values, loc= 'upper left')\n",
    "plt.show()"
   ]
  },
  {
   "cell_type": "code",
   "execution_count": 9,
   "id": "cf6b48df",
   "metadata": {},
   "outputs": [
    {
     "data": {
      "text/html": [
       "<div>\n",
       "<style scoped>\n",
       "    .dataframe tbody tr th:only-of-type {\n",
       "        vertical-align: middle;\n",
       "    }\n",
       "\n",
       "    .dataframe tbody tr th {\n",
       "        vertical-align: top;\n",
       "    }\n",
       "\n",
       "    .dataframe thead th {\n",
       "        text-align: right;\n",
       "    }\n",
       "</style>\n",
       "<table border=\"1\" class=\"dataframe\">\n",
       "  <thead>\n",
       "    <tr style=\"text-align: right;\">\n",
       "      <th></th>\n",
       "      <th>AMGN</th>\n",
       "      <th>JNJ</th>\n",
       "      <th>MRK</th>\n",
       "    </tr>\n",
       "    <tr>\n",
       "      <th>Date</th>\n",
       "      <th></th>\n",
       "      <th></th>\n",
       "      <th></th>\n",
       "    </tr>\n",
       "  </thead>\n",
       "  <tbody>\n",
       "    <tr>\n",
       "      <th>2013-01-02</th>\n",
       "      <td>NaN</td>\n",
       "      <td>NaN</td>\n",
       "      <td>NaN</td>\n",
       "    </tr>\n",
       "    <tr>\n",
       "      <th>2013-01-03</th>\n",
       "      <td>-0.006281</td>\n",
       "      <td>-0.001412</td>\n",
       "      <td>0.023948</td>\n",
       "    </tr>\n",
       "    <tr>\n",
       "      <th>2013-01-04</th>\n",
       "      <td>0.004402</td>\n",
       "      <td>0.011451</td>\n",
       "      <td>-0.008505</td>\n",
       "    </tr>\n",
       "    <tr>\n",
       "      <th>2013-01-07</th>\n",
       "      <td>-0.005058</td>\n",
       "      <td>-0.002097</td>\n",
       "      <td>0.003574</td>\n",
       "    </tr>\n",
       "    <tr>\n",
       "      <th>2013-01-08</th>\n",
       "      <td>-0.004292</td>\n",
       "      <td>0.000140</td>\n",
       "      <td>0.001425</td>\n",
       "    </tr>\n",
       "    <tr>\n",
       "      <th>...</th>\n",
       "      <td>...</td>\n",
       "      <td>...</td>\n",
       "      <td>...</td>\n",
       "    </tr>\n",
       "    <tr>\n",
       "      <th>2022-01-26</th>\n",
       "      <td>-0.011109</td>\n",
       "      <td>0.004474</td>\n",
       "      <td>-0.004027</td>\n",
       "    </tr>\n",
       "    <tr>\n",
       "      <th>2022-01-27</th>\n",
       "      <td>0.006561</td>\n",
       "      <td>0.013125</td>\n",
       "      <td>0.018196</td>\n",
       "    </tr>\n",
       "    <tr>\n",
       "      <th>2022-01-28</th>\n",
       "      <td>0.022946</td>\n",
       "      <td>0.007034</td>\n",
       "      <td>0.003971</td>\n",
       "    </tr>\n",
       "    <tr>\n",
       "      <th>2022-01-31</th>\n",
       "      <td>-0.008728</td>\n",
       "      <td>0.002911</td>\n",
       "      <td>0.007169</td>\n",
       "    </tr>\n",
       "    <tr>\n",
       "      <th>2022-02-01</th>\n",
       "      <td>0.006780</td>\n",
       "      <td>-0.008184</td>\n",
       "      <td>0.005400</td>\n",
       "    </tr>\n",
       "  </tbody>\n",
       "</table>\n",
       "<p>2288 rows × 3 columns</p>\n",
       "</div>"
      ],
      "text/plain": [
       "                AMGN       JNJ       MRK\n",
       "Date                                    \n",
       "2013-01-02       NaN       NaN       NaN\n",
       "2013-01-03 -0.006281 -0.001412  0.023948\n",
       "2013-01-04  0.004402  0.011451 -0.008505\n",
       "2013-01-07 -0.005058 -0.002097  0.003574\n",
       "2013-01-08 -0.004292  0.000140  0.001425\n",
       "...              ...       ...       ...\n",
       "2022-01-26 -0.011109  0.004474 -0.004027\n",
       "2022-01-27  0.006561  0.013125  0.018196\n",
       "2022-01-28  0.022946  0.007034  0.003971\n",
       "2022-01-31 -0.008728  0.002911  0.007169\n",
       "2022-02-01  0.006780 -0.008184  0.005400\n",
       "\n",
       "[2288 rows x 3 columns]"
      ]
     },
     "execution_count": 9,
     "metadata": {},
     "output_type": "execute_result"
    }
   ],
   "source": [
    "returns = df.pct_change()\n",
    "returns"
   ]
  },
  {
   "cell_type": "code",
   "execution_count": 10,
   "id": "b306d2f1",
   "metadata": {},
   "outputs": [
    {
     "data": {
      "text/html": [
       "<div>\n",
       "<style scoped>\n",
       "    .dataframe tbody tr th:only-of-type {\n",
       "        vertical-align: middle;\n",
       "    }\n",
       "\n",
       "    .dataframe tbody tr th {\n",
       "        vertical-align: top;\n",
       "    }\n",
       "\n",
       "    .dataframe thead th {\n",
       "        text-align: right;\n",
       "    }\n",
       "</style>\n",
       "<table border=\"1\" class=\"dataframe\">\n",
       "  <thead>\n",
       "    <tr style=\"text-align: right;\">\n",
       "      <th></th>\n",
       "      <th>AMGN</th>\n",
       "      <th>JNJ</th>\n",
       "      <th>MRK</th>\n",
       "    </tr>\n",
       "  </thead>\n",
       "  <tbody>\n",
       "    <tr>\n",
       "      <th>AMGN</th>\n",
       "      <td>0.065232</td>\n",
       "      <td>0.024418</td>\n",
       "      <td>0.028084</td>\n",
       "    </tr>\n",
       "    <tr>\n",
       "      <th>JNJ</th>\n",
       "      <td>0.024418</td>\n",
       "      <td>0.031296</td>\n",
       "      <td>0.020177</td>\n",
       "    </tr>\n",
       "    <tr>\n",
       "      <th>MRK</th>\n",
       "      <td>0.028084</td>\n",
       "      <td>0.020177</td>\n",
       "      <td>0.045371</td>\n",
       "    </tr>\n",
       "  </tbody>\n",
       "</table>\n",
       "</div>"
      ],
      "text/plain": [
       "          AMGN       JNJ       MRK\n",
       "AMGN  0.065232  0.024418  0.028084\n",
       "JNJ   0.024418  0.031296  0.020177\n",
       "MRK   0.028084  0.020177  0.045371"
      ]
     },
     "execution_count": 10,
     "metadata": {},
     "output_type": "execute_result"
    }
   ],
   "source": [
    "#annualized covariance matrix\n",
    "cov_matrix_annual = returns.cov() * 252\n",
    "cov_matrix_annual"
   ]
  },
  {
   "cell_type": "code",
   "execution_count": 11,
   "id": "28651701",
   "metadata": {},
   "outputs": [
    {
     "data": {
      "text/plain": [
       "0.031282443573012984"
      ]
     },
     "execution_count": 11,
     "metadata": {},
     "output_type": "execute_result"
    }
   ],
   "source": [
    "#calculate the portfolio variance\n",
    "port_variance = np.dot(weights.T, np.dot(cov_matrix_annual, weights) )\n",
    "port_variance"
   ]
  },
  {
   "cell_type": "code",
   "execution_count": 12,
   "id": "1211a8f2",
   "metadata": {},
   "outputs": [
    {
     "data": {
      "text/plain": [
       "0.1768684357736365"
      ]
     },
     "execution_count": 12,
     "metadata": {},
     "output_type": "execute_result"
    }
   ],
   "source": [
    "#calculate the portfolio volatility(std dev)\n",
    "port_volatality = np.sqrt(port_variance)\n",
    "port_volatality"
   ]
  },
  {
   "cell_type": "code",
   "execution_count": 13,
   "id": "22a16f24",
   "metadata": {},
   "outputs": [
    {
     "data": {
      "text/plain": [
       "0.1438801124778131"
      ]
     },
     "execution_count": 13,
     "metadata": {},
     "output_type": "execute_result"
    }
   ],
   "source": [
    "#calculate annual portfolio returns\n",
    "portfolioSimpleAnnualReturn = np.sum(returns.mean() * weights) * 252\n",
    "portfolioSimpleAnnualReturn"
   ]
  },
  {
   "cell_type": "code",
   "execution_count": 14,
   "id": "b5aeb5fd",
   "metadata": {},
   "outputs": [
    {
     "name": "stdout",
     "output_type": "stream",
     "text": [
      "Expected Annual Return:14.000000000000002%\n",
      "Annual Volatility/Risk:18.0%\n",
      "Annual Variance:3.0%\n"
     ]
    }
   ],
   "source": [
    "#show the expected annual return, volatility(risk), variance\n",
    "percent_var  = str(round(port_variance, 2) * 100) + '%'\n",
    "percent_vols  = str(round(port_volatality, 2) * 100) + '%'\n",
    "percent_ret  = str(round(portfolioSimpleAnnualReturn, 2) * 100) + '%'\n",
    "\n",
    "print('Expected Annual Return:' + percent_ret)\n",
    "print('Annual Volatility/Risk:' + percent_vols)\n",
    "print('Annual Variance:' + percent_var)"
   ]
  },
  {
   "cell_type": "code",
   "execution_count": 15,
   "id": "9aa42ee7",
   "metadata": {},
   "outputs": [],
   "source": [
    "from pypfopt.efficient_frontier import EfficientFrontier\n",
    "from pypfopt import risk_models\n",
    "from pypfopt import expected_returns"
   ]
  },
  {
   "cell_type": "code",
   "execution_count": 16,
   "id": "aa8a0cab",
   "metadata": {},
   "outputs": [
    {
     "name": "stdout",
     "output_type": "stream",
     "text": [
      "OrderedDict([('AMGN', 0.12349), ('JNJ', 0.71694), ('MRK', 0.15957)])\n",
      "Expected annual return: 13.1%\n",
      "Annual volatility: 16.8%\n",
      "Sharpe Ratio: 0.66\n"
     ]
    },
    {
     "data": {
      "text/plain": [
       "(0.13067597005682963, 0.16817622769792068, 0.6580952110284373)"
      ]
     },
     "execution_count": 16,
     "metadata": {},
     "output_type": "execute_result"
    }
   ],
   "source": [
    "#Portfolio Optimization\n",
    "\n",
    "#calculate the expected returns and annualized sample covariance matrix of asset returns\n",
    "\n",
    "mu = expected_returns.mean_historical_return(df)\n",
    "S = risk_models.sample_cov(df)\n",
    "\n",
    "#optimize for max sharpe ratio\n",
    "ef = EfficientFrontier(mu, S)\n",
    "weights = ef.max_sharpe()\n",
    "cleaned_weights = ef.clean_weights()\n",
    "print(cleaned_weights)\n",
    "ef.portfolio_performance(verbose = True)"
   ]
  },
  {
   "cell_type": "code",
   "execution_count": 17,
   "id": "5d4e6950",
   "metadata": {},
   "outputs": [
    {
     "name": "stdout",
     "output_type": "stream",
     "text": [
      "Long-step dual simplex will be used\n",
      "Discrete Allocation: {'AMGN': 540, 'JNJ': 4196, 'MRK': 1947}\n",
      "Funds Remaining : $2.067032\n"
     ]
    }
   ],
   "source": [
    "#Discrete allocation of each share per stock\n",
    "from pypfopt.discrete_allocation import DiscreteAllocation, get_latest_prices\n",
    "latest_prices = get_latest_prices(df)\n",
    "weights = cleaned_weights\n",
    "da = DiscreteAllocation(weights, latest_prices, total_portfolio_value = 1000000)\n",
    "\n",
    "allocation, leftover = da.lp_portfolio()\n",
    "print('Discrete Allocation:', allocation)\n",
    "print('Funds Remaining : ${:2f}'.format(leftover))"
   ]
  },
  {
   "cell_type": "code",
   "execution_count": null,
   "id": "9f7ce65f",
   "metadata": {},
   "outputs": [],
   "source": []
  }
 ],
 "metadata": {
  "kernelspec": {
   "display_name": "Python 3 (ipykernel)",
   "language": "python",
   "name": "python3"
  },
  "language_info": {
   "codemirror_mode": {
    "name": "ipython",
    "version": 3
   },
   "file_extension": ".py",
   "mimetype": "text/x-python",
   "name": "python",
   "nbconvert_exporter": "python",
   "pygments_lexer": "ipython3",
   "version": "3.9.7"
  }
 },
 "nbformat": 4,
 "nbformat_minor": 5
}
